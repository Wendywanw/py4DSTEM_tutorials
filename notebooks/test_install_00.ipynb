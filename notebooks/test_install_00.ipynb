{
 "cells": [
  {
   "cell_type": "markdown",
   "metadata": {
    "id": "dWtjuR0PzrAJ"
   },
   "source": [
    "# py4DSTEM installation test\n",
    "\n",
    "Here we:\n",
    "- import py4DSTEM\n",
    "- check the current configuration\n",
    "- load a 4D datacube\n",
    "\n",
    "\n",
    "\n",
    "### Acknowledgements\n",
    "\n",
    "This tutorial was created by:\n",
    "- Ben Savitzky (bhsavitzky@lbl.gov)\n",
    "\n",
    "### Last updated\n",
    "\n",
    "- Date: 11/1/2023\n",
    "- Version: 0.14.8"
   ]
  },
  {
   "cell_type": "markdown",
   "metadata": {
    "id": "wyDwnLNsz-pO"
   },
   "source": [
    "# Import"
   ]
  },
  {
   "cell_type": "code",
   "execution_count": 1,
   "metadata": {},
   "outputs": [
    {
     "name": "stdout",
     "output_type": "stream",
     "text": [
      "0.14.18\n"
     ]
    }
   ],
   "source": [
    "import py4DSTEM\n",
    "\n",
    "print(py4DSTEM.__version__)"
   ]
  },
  {
   "cell_type": "code",
   "execution_count": 2,
   "metadata": {},
   "outputs": [
    {
     "name": "stdout",
     "output_type": "stream",
     "text": [
      "\u001b[1mChecking Module Dependencies\u001b[0m\n",
      "\u001b[7;92m All Dependencies for Base are Installed \u001b[0m\n",
      "\u001b[7;91m Not All Dependencies for Ipyparallel are Installed\u001b[0m\n",
      "\u001b[7;91m Not All Dependencies for Cuda are Installed\u001b[0m\n",
      "\u001b[7;91m Not All Dependencies for Acom are Installed\u001b[0m\n",
      "\u001b[7;91m Not All Dependencies for Aiml are Installed\u001b[0m\n",
      "\u001b[7;91m Not All Dependencies for Aiml-cuda are Installed\u001b[0m\n",
      "\u001b[7;92m All Dependencies for Numba are Installed \u001b[0m\n"
     ]
    }
   ],
   "source": [
    "# Check the configuration\n",
    "\n",
    "# If you did a basic installation, only Base dependency should be installed\n",
    "# For instructions for installing additional dependencies, see https://github.com/py4dstem/py4DSTEM#install\n",
    "\n",
    "\n",
    "py4DSTEM.check_config()"
   ]
  },
  {
   "cell_type": "markdown",
   "metadata": {
    "id": "bZfLN2Ra0jxG"
   },
   "source": [
    "# Load data"
   ]
  },
  {
   "cell_type": "markdown",
   "metadata": {},
   "source": [
    "---\n",
    "## Data download\n",
    "\n",
    "You can download the test dataset here: (200 megabytes)\n",
    "* [Small .dm4 vacuum probe file](https://drive.google.com/file/d/1QTcSKzZjHZd1fDimSI_q9_WsAU25NIXe/view?usp=drive_link)\n",
    "\n",
    "When you download and save the dataset, make sure you note where on your computer's filesystem you save it.  You'll need to enter this information in the cell below as the `filepath_data` variable to load the file - see below.\n",
    "\n",
    "## Filepaths\n",
    "\n",
    "To load a file, you need to tell py4DSTEM where that file lives on your computer.  We do that with a **path** or **filepath**, which is like an address on your computer's file system.  It will normally be a sequence of folders leading to the file, each separated with a `/` (Mac or Linux) or `\\` (Windows) character, and will end with the name of the file itself.\n",
    "\n",
    "On a Mac computer, that might look like:\n",
    "\n",
    "```/Users/Ben/py4dstem_tutorial_2023/data/vacuum_probe_20x20.dm4```\n",
    "\n",
    "And on a windows computer, it might be:\n",
    "\n",
    "```C:\\Documents\\py4dstem_tutorial_2023\\data\\vacuum_probe_20x20.dm4```"
   ]
  },
  {
   "cell_type": "code",
   "execution_count": 3,
   "metadata": {
    "colab": {
     "base_uri": "https://localhost:8080/"
    },
    "executionInfo": {
     "elapsed": 2683,
     "status": "ok",
     "timestamp": 1646781495318,
     "user": {
      "displayName": "Benjamin Savitzky",
      "photoUrl": "https://lh3.googleusercontent.com/a-/AOh14GhuUyU1rnhC9SeJ8DzVa-96cw06-D15BrLxJ1BR=s64",
      "userId": "01089621796660637532"
     },
     "user_tz": 300
    },
    "id": "SoU8kLbUnyf0",
    "outputId": "ab08c1a4-0d19-4d06-e6af-6dcd857f221e"
   },
   "outputs": [],
   "source": [
    "# Set the filepath\n",
    "\n",
    "# You need to update this string for the code to work! Right now, it describes where this file exists on\n",
    "# my computer as I write this tutorial - you need to change it to represent the file's location on\n",
    "# your machine.\n",
    "\n",
    "\n",
    "filepath_data = \"/Users/Ben/work/data/py4DSTEM_sampleData/vacuum_probe_20x20.dm4\""
   ]
  },
  {
   "cell_type": "code",
   "execution_count": 4,
   "metadata": {
    "executionInfo": {
     "elapsed": 2639,
     "status": "ok",
     "timestamp": 1646781497953,
     "user": {
      "displayName": "Benjamin Savitzky",
      "photoUrl": "https://lh3.googleusercontent.com/a-/AOh14GhuUyU1rnhC9SeJ8DzVa-96cw06-D15BrLxJ1BR=s64",
      "userId": "01089621796660637532"
     },
     "user_tz": 300
    },
    "id": "Eur6TtF5qcZI"
   },
   "outputs": [],
   "source": [
    "# Load a datacube from a .dm4 file\n",
    "\n",
    "\n",
    "datacube = py4DSTEM.import_file(\n",
    "    filepath_data,\n",
    ")"
   ]
  },
  {
   "cell_type": "markdown",
   "metadata": {},
   "source": [
    "Note that py4DSTEM uses `import_file` for loading file formats other than it's own, and uses `read` for native files, i.e. files that py4DSTEM wrote. Since we were loading a .dm4 file here, we used `import_file`."
   ]
  },
  {
   "cell_type": "code",
   "execution_count": 5,
   "metadata": {},
   "outputs": [
    {
     "data": {
      "text/plain": [
       "DataCube( A 4-dimensional array of shape (20, 20, 512, 512) called 'dm_dataset',\n",
       "          with dimensions:\n",
       "\n",
       "              Rx = [0.0,1.0,2.0,...] pixels\n",
       "              Ry = [0.0,1.0,2.0,...] pixels\n",
       "              Qx = [0.0,0.0046968888491392136,0.009393777698278427,...] A^-1\n",
       "              Qy = [0.0,0.0046968888491392136,0.009393777698278427,...] A^-1\n",
       ")"
      ]
     },
     "execution_count": 5,
     "metadata": {},
     "output_type": "execute_result"
    }
   ],
   "source": [
    "# If it worked, passing the variable `datacube` directly to the Python interpreter should\n",
    "# print a short description of the 4D dataset, starting with `DataCube( ... `\n",
    "\n",
    "\n",
    "datacube"
   ]
  },
  {
   "cell_type": "code",
   "execution_count": null,
   "metadata": {},
   "outputs": [],
   "source": []
  }
 ],
 "metadata": {
  "colab": {
   "collapsed_sections": [],
   "name": "4DSTEM basics and visualization.ipynb",
   "provenance": []
  },
  "kernelspec": {
   "display_name": "tem_colin",
   "language": "python",
   "name": "python3"
  },
  "language_info": {
   "codemirror_mode": {
    "name": "ipython",
    "version": 3
   },
   "file_extension": ".py",
   "mimetype": "text/x-python",
   "name": "python",
   "nbconvert_exporter": "python",
   "pygments_lexer": "ipython3",
   "version": "3.11.0"
  }
 },
 "nbformat": 4,
 "nbformat_minor": 4
}
